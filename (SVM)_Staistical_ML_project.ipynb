{
  "nbformat": 4,
  "nbformat_minor": 0,
  "metadata": {
    "colab": {
      "provenance": []
    },
    "kernelspec": {
      "name": "python3",
      "display_name": "Python 3"
    },
    "language_info": {
      "name": "python"
    }
  },
  "cells": [
    {
      "cell_type": "code",
      "execution_count": 59,
      "metadata": {
        "id": "jNkTKVaoHRs6",
        "colab": {
          "base_uri": "https://localhost:8080/"
        },
        "outputId": "5c2cea39-97c8-42cc-82c0-35d618ee718d"
      },
      "outputs": [
        {
          "output_type": "stream",
          "name": "stdout",
          "text": [
            "Drive already mounted at /content/drive; to attempt to forcibly remount, call drive.mount(\"/content/drive\", force_remount=True).\n"
          ]
        }
      ],
      "source": [
        "from google.colab import drive\n",
        "drive.mount('/content/drive')"
      ]
    },
    {
      "cell_type": "code",
      "source": [
        "import pandas as pd\n",
        "df = pd.read_csv('/content/drive/MyDrive/Datasets/kidney_disease.csv')"
      ],
      "metadata": {
        "id": "Gh8UDFLHHWqH"
      },
      "execution_count": 60,
      "outputs": []
    },
    {
      "cell_type": "markdown",
      "source": [
        "## <font color='green'>***Pre-Processing***"
      ],
      "metadata": {
        "id": "7FTPiAiKiHem"
      }
    },
    {
      "cell_type": "code",
      "source": [
        "df.isnull().sum()"
      ],
      "metadata": {
        "id": "ft52eUyIHkOY",
        "colab": {
          "base_uri": "https://localhost:8080/"
        },
        "outputId": "09faa33a-fc1f-40cc-ae01-28f042668a6e"
      },
      "execution_count": 61,
      "outputs": [
        {
          "output_type": "execute_result",
          "data": {
            "text/plain": [
              "id                  0\n",
              "age                 9\n",
              "bp                 12\n",
              "sg                 47\n",
              "al                 46\n",
              "su                 49\n",
              "rbc               152\n",
              "pc                 65\n",
              "pcc                 4\n",
              "ba                  4\n",
              "bgr                44\n",
              "bu                 19\n",
              "sc                 17\n",
              "sod                87\n",
              "pot                88\n",
              "hemo               52\n",
              "pcv                70\n",
              "wc                105\n",
              "rc                130\n",
              "htn                 2\n",
              "dm                  2\n",
              "cad                 2\n",
              "appet               1\n",
              "pe                  1\n",
              "ane                 1\n",
              "classification      0\n",
              "dtype: int64"
            ]
          },
          "metadata": {},
          "execution_count": 61
        }
      ]
    },
    {
      "cell_type": "code",
      "source": [
        "df1=df\n",
        "df2=df\n",
        "df3=df"
      ],
      "metadata": {
        "id": "PmETUNIcILop"
      },
      "execution_count": 62,
      "outputs": []
    },
    {
      "cell_type": "markdown",
      "source": [
        "<font color='green'> ***filling the null values with mean, median and most frequent value***\n",
        "\n"
      ],
      "metadata": {
        "id": "uriwPyqMgD1A"
      }
    },
    {
      "cell_type": "code",
      "source": [
        "df2['age'] = df2[\"age\"].fillna(df2['age'].median())\n",
        "df2['bp'] = df2[\"bp\"].fillna(df2['bp'].mean())\n",
        "df2['sg'] = df2[\"sg\"].fillna(df2['sg'].mean())\n",
        "df2['al'] = df2[\"al\"].fillna(df2['al'].median())\n",
        "df2['su'] = df2[\"su\"].fillna(df2['su'].median())\n",
        "df2['bgr'] = df2[\"bgr\"].fillna(df2['bgr'].median())\n",
        "df2['bu'] = df2[\"bu\"].fillna(df2['bu'].median())\n",
        "df2['sc'] = df2[\"sc\"].fillna(df2['sc'].median())\n",
        "df2['sod'] = df2[\"sod\"].fillna(df2['sod'].median())\n",
        "df2['pot'] = df2[\"pot\"].fillna(df2['pot'].median())\n",
        "df2['hemo'] = df2[\"hemo\"].fillna(df2['hemo'].median())"
      ],
      "metadata": {
        "id": "230ObvndIfRE"
      },
      "execution_count": 63,
      "outputs": []
    },
    {
      "cell_type": "code",
      "source": [
        "most_frequent_category = df2['rbc'].mode().iloc[0]\n",
        "df2['rbc'].fillna(most_frequent_category,inplace = True)\n",
        "\n",
        "most_frequent_category = df2['pc'].mode().iloc[0]\n",
        "df2['pc'].fillna(most_frequent_category,inplace = True)\n",
        "\n",
        "most_frequent_category = df2['pcc'].mode().iloc[0]\n",
        "df2['pcc'].fillna(most_frequent_category,inplace = True)\n",
        "\n",
        "most_frequent_category = df2['ba'].mode().iloc[0]\n",
        "df2['ba'].fillna(most_frequent_category,inplace = True)\n",
        "\n",
        "most_frequent_category = df2['pcv'].mode().iloc[0]\n",
        "df2['pcv'].fillna(most_frequent_category,inplace = True)\n",
        "\n",
        "most_frequent_category = df2['wc'].mode().iloc[0]\n",
        "df2['wc'].fillna(most_frequent_category,inplace = True)\n",
        "\n",
        "most_frequent_category = df2['rc'].mode().iloc[0]\n",
        "df2['rc'].fillna(most_frequent_category,inplace = True)\n",
        "\n",
        "most_frequent_category = df2['htn'].mode().iloc[0]\n",
        "df2['htn'].fillna(most_frequent_category,inplace = True)\n",
        "\n",
        "most_frequent_category = df2['dm'].mode().iloc[0]\n",
        "df2['dm'].fillna(most_frequent_category,inplace = True)\n",
        "\n",
        "most_frequent_category = df2['cad'].mode().iloc[0]\n",
        "df2['cad'].fillna(most_frequent_category,inplace = True)"
      ],
      "metadata": {
        "id": "qYUlRnufL-sN"
      },
      "execution_count": 64,
      "outputs": []
    },
    {
      "cell_type": "code",
      "source": [
        "df2.isnull().sum()"
      ],
      "metadata": {
        "id": "LKaeVRycMQWM",
        "colab": {
          "base_uri": "https://localhost:8080/"
        },
        "outputId": "1873bf13-2307-469e-fc39-601f41df6c41"
      },
      "execution_count": 65,
      "outputs": [
        {
          "output_type": "execute_result",
          "data": {
            "text/plain": [
              "id                0\n",
              "age               0\n",
              "bp                0\n",
              "sg                0\n",
              "al                0\n",
              "su                0\n",
              "rbc               0\n",
              "pc                0\n",
              "pcc               0\n",
              "ba                0\n",
              "bgr               0\n",
              "bu                0\n",
              "sc                0\n",
              "sod               0\n",
              "pot               0\n",
              "hemo              0\n",
              "pcv               0\n",
              "wc                0\n",
              "rc                0\n",
              "htn               0\n",
              "dm                0\n",
              "cad               0\n",
              "appet             1\n",
              "pe                1\n",
              "ane               1\n",
              "classification    0\n",
              "dtype: int64"
            ]
          },
          "metadata": {},
          "execution_count": 65
        }
      ]
    },
    {
      "cell_type": "markdown",
      "source": [
        "<font color='green'>***Dropping null Values***"
      ],
      "metadata": {
        "id": "NRncUDMEghe2"
      }
    },
    {
      "cell_type": "code",
      "source": [
        "df2.dropna(subset =[\"appet\"], inplace =True )\n",
        "df2.dropna(subset =[\"pe\"], inplace =True )\n",
        "df2.dropna(subset =[\"ane\"], inplace =True )"
      ],
      "metadata": {
        "id": "PUpMC-jGNHEB"
      },
      "execution_count": 66,
      "outputs": []
    },
    {
      "cell_type": "code",
      "source": [
        "df2.isnull().sum()"
      ],
      "metadata": {
        "id": "gYVpHUJvNM57",
        "colab": {
          "base_uri": "https://localhost:8080/"
        },
        "outputId": "c23b1975-396c-4c27-88df-0d86d494cbaf"
      },
      "execution_count": 67,
      "outputs": [
        {
          "output_type": "execute_result",
          "data": {
            "text/plain": [
              "id                0\n",
              "age               0\n",
              "bp                0\n",
              "sg                0\n",
              "al                0\n",
              "su                0\n",
              "rbc               0\n",
              "pc                0\n",
              "pcc               0\n",
              "ba                0\n",
              "bgr               0\n",
              "bu                0\n",
              "sc                0\n",
              "sod               0\n",
              "pot               0\n",
              "hemo              0\n",
              "pcv               0\n",
              "wc                0\n",
              "rc                0\n",
              "htn               0\n",
              "dm                0\n",
              "cad               0\n",
              "appet             0\n",
              "pe                0\n",
              "ane               0\n",
              "classification    0\n",
              "dtype: int64"
            ]
          },
          "metadata": {},
          "execution_count": 67
        }
      ]
    },
    {
      "cell_type": "markdown",
      "source": [
        "<font color='green'>***Changing the Datatypes***"
      ],
      "metadata": {
        "id": "hrv0zeH_gwfk"
      }
    },
    {
      "cell_type": "code",
      "source": [
        "from sklearn.preprocessing import LabelEncoder"
      ],
      "metadata": {
        "id": "27gJ9TzNZGn2"
      },
      "execution_count": 68,
      "outputs": []
    },
    {
      "cell_type": "code",
      "source": [
        "le= LabelEncoder()"
      ],
      "metadata": {
        "id": "WoE7xpnSZITH"
      },
      "execution_count": 69,
      "outputs": []
    },
    {
      "cell_type": "code",
      "source": [
        "df2['rbc']= le.fit_transform(df['rbc'])\n",
        "df2['pc']= le.fit_transform(df['pc'])\n",
        "df2['pcc']= le.fit_transform(df['pcc'])\n",
        "df2['ba']= le.fit_transform(df['ba'])\n",
        "df2['pcv']= le.fit_transform(df['pcv'])\n",
        "df2['wc']= le.fit_transform(df['wc'])\n",
        "df2['rc']= le.fit_transform(df['rc'])\n",
        "df2['htn']= le.fit_transform(df['htn'])\n",
        "df2['dm']= le.fit_transform(df['dm'])\n",
        "df2['cad']= le.fit_transform(df['cad'])\n",
        "df2['appet']= le.fit_transform(df['appet'])\n",
        "df2['pe']= le.fit_transform(df['pe'])\n",
        "df2['ane']= le.fit_transform(df['ane'])\n",
        "df2['classification']= le.fit_transform(df['classification'])\n"
      ],
      "metadata": {
        "id": "zJYuSNwHNpqi"
      },
      "execution_count": 70,
      "outputs": []
    },
    {
      "cell_type": "code",
      "source": [
        "df2.info()"
      ],
      "metadata": {
        "id": "tu6cKfI1ZRGY",
        "colab": {
          "base_uri": "https://localhost:8080/"
        },
        "outputId": "35e5e949-12a4-44b6-d68e-594eb42c9318"
      },
      "execution_count": 71,
      "outputs": [
        {
          "output_type": "stream",
          "name": "stdout",
          "text": [
            "<class 'pandas.core.frame.DataFrame'>\n",
            "Int64Index: 399 entries, 0 to 399\n",
            "Data columns (total 26 columns):\n",
            " #   Column          Non-Null Count  Dtype  \n",
            "---  ------          --------------  -----  \n",
            " 0   id              399 non-null    int64  \n",
            " 1   age             399 non-null    float64\n",
            " 2   bp              399 non-null    float64\n",
            " 3   sg              399 non-null    float64\n",
            " 4   al              399 non-null    float64\n",
            " 5   su              399 non-null    float64\n",
            " 6   rbc             399 non-null    int64  \n",
            " 7   pc              399 non-null    int64  \n",
            " 8   pcc             399 non-null    int64  \n",
            " 9   ba              399 non-null    int64  \n",
            " 10  bgr             399 non-null    float64\n",
            " 11  bu              399 non-null    float64\n",
            " 12  sc              399 non-null    float64\n",
            " 13  sod             399 non-null    float64\n",
            " 14  pot             399 non-null    float64\n",
            " 15  hemo            399 non-null    float64\n",
            " 16  pcv             399 non-null    int64  \n",
            " 17  wc              399 non-null    int64  \n",
            " 18  rc              399 non-null    int64  \n",
            " 19  htn             399 non-null    int64  \n",
            " 20  dm              399 non-null    int64  \n",
            " 21  cad             399 non-null    int64  \n",
            " 22  appet           399 non-null    int64  \n",
            " 23  pe              399 non-null    int64  \n",
            " 24  ane             399 non-null    int64  \n",
            " 25  classification  399 non-null    int64  \n",
            "dtypes: float64(11), int64(15)\n",
            "memory usage: 84.2 KB\n"
          ]
        }
      ]
    },
    {
      "cell_type": "code",
      "source": [
        "df2['classification'].unique()"
      ],
      "metadata": {
        "id": "NEf9ItPNbtl-",
        "colab": {
          "base_uri": "https://localhost:8080/"
        },
        "outputId": "8778e276-1f29-42ac-dc14-b0fa668c755e"
      },
      "execution_count": 72,
      "outputs": [
        {
          "output_type": "execute_result",
          "data": {
            "text/plain": [
              "array([0, 1, 2])"
            ]
          },
          "metadata": {},
          "execution_count": 72
        }
      ]
    },
    {
      "cell_type": "code",
      "source": [
        "df2['classification'] = df2['classification'].apply(lambda x: 1 if x > 0 else 0)\n"
      ],
      "metadata": {
        "id": "zueZpycnI2Br"
      },
      "execution_count": 73,
      "outputs": []
    },
    {
      "cell_type": "code",
      "source": [
        "rows_with_value = df2[df2['classification'] == 0]\n",
        "print(rows_with_value)"
      ],
      "metadata": {
        "id": "YqluqV4KBZvN",
        "colab": {
          "base_uri": "https://localhost:8080/"
        },
        "outputId": "ee1135d4-aaaa-4d11-d38f-51b30da6bab6"
      },
      "execution_count": 74,
      "outputs": [
        {
          "output_type": "stream",
          "name": "stdout",
          "text": [
            "      id   age     bp        sg   al   su  rbc  pc  pcc  ba  ...  pcv  wc  rc  \\\n",
            "0      0  48.0   80.0  1.020000  1.0  0.0    1   1    0   0  ...   32  72  34   \n",
            "1      1   7.0   50.0  1.020000  4.0  0.0    1   1    0   0  ...   26  56  34   \n",
            "2      2  62.0   80.0  1.010000  2.0  3.0    1   1    0   0  ...   19  70  34   \n",
            "3      3  48.0   70.0  1.005000  4.0  0.0    1   0    1   0  ...   20  62  19   \n",
            "4      4  51.0   80.0  1.010000  2.0  0.0    1   1    0   0  ...   23  68  27   \n",
            "..   ...   ...    ...       ...  ...  ...  ...  ..  ...  ..  ...  ...  ..  ..   \n",
            "245  245  48.0  100.0  1.017408  0.0  0.0    1   1    0   0  ...    7  67   5   \n",
            "246  246  48.0  110.0  1.015000  3.0  0.0    0   1    1   0  ...   14  46   4   \n",
            "247  247  54.0   90.0  1.025000  1.0  0.0    1   0    0   0  ...   29  90  34   \n",
            "248  248  59.0   70.0  1.010000  1.0  3.0    0   0    0   0  ...   25   3  22   \n",
            "249  249  56.0   90.0  1.010000  4.0  1.0    1   0    1   0  ...   43  50   1   \n",
            "\n",
            "     htn  dm  cad  appet  pe  ane  classification  \n",
            "0      1   4    1      0   0    0               0  \n",
            "1      0   3    1      0   0    0               0  \n",
            "2      0   4    1      1   0    1               0  \n",
            "3      1   3    1      1   1    1               0  \n",
            "4      0   3    1      0   0    0               0  \n",
            "..   ...  ..  ...    ...  ..  ...             ...  \n",
            "245    1   3    2      1   0    0               0  \n",
            "246    1   3    2      0   0    1               0  \n",
            "247    0   3    1      1   1    1               0  \n",
            "248    1   4    2      0   0    0               0  \n",
            "249    1   4    1      1   1    1               0  \n",
            "\n",
            "[248 rows x 26 columns]\n"
          ]
        }
      ]
    },
    {
      "cell_type": "code",
      "source": [
        "df2['classification'].unique()"
      ],
      "metadata": {
        "id": "ru2wfsZyei6k",
        "colab": {
          "base_uri": "https://localhost:8080/"
        },
        "outputId": "44448365-fd6a-492d-e6dc-873a318e2a39"
      },
      "execution_count": 75,
      "outputs": [
        {
          "output_type": "execute_result",
          "data": {
            "text/plain": [
              "array([0, 1])"
            ]
          },
          "metadata": {},
          "execution_count": 75
        }
      ]
    },
    {
      "cell_type": "code",
      "source": [
        "value_counts = df2.groupby('classification').size().reset_index(name='count')\n",
        "print(value_counts)"
      ],
      "metadata": {
        "id": "V9aVAb246NL4",
        "colab": {
          "base_uri": "https://localhost:8080/"
        },
        "outputId": "52646491-bf73-41d2-82d6-7a897b3ac7b0"
      },
      "execution_count": 76,
      "outputs": [
        {
          "output_type": "stream",
          "name": "stdout",
          "text": [
            "   classification  count\n",
            "0               0    248\n",
            "1               1    151\n"
          ]
        }
      ]
    },
    {
      "cell_type": "code",
      "source": [
        "from imblearn.over_sampling import SMOTE"
      ],
      "metadata": {
        "id": "HSOBXJtsDg_o"
      },
      "execution_count": 77,
      "outputs": []
    },
    {
      "cell_type": "code",
      "source": [
        "x= df2.drop('classification', axis=1)\n",
        "y= df2['classification']\n",
        "smote = SMOTE (random_state= 42)\n",
        "x_resampled, y_resampled = smote.fit_resample(x,y)\n",
        "oversampled_df = pd.DataFrame(x_resampled, columns = x.columns)\n",
        "oversampled_df['classification']= y_resampled"
      ],
      "metadata": {
        "id": "41yBfp6CDhyU"
      },
      "execution_count": 78,
      "outputs": []
    },
    {
      "cell_type": "code",
      "source": [
        "value_counts = oversampled_df.groupby('classification').size().reset_index(name='count')\n",
        "print(value_counts)"
      ],
      "metadata": {
        "id": "KsEwlDkfDoiJ",
        "colab": {
          "base_uri": "https://localhost:8080/"
        },
        "outputId": "3496bf32-17b9-4411-a9a9-db6f99dd26b4"
      },
      "execution_count": 79,
      "outputs": [
        {
          "output_type": "stream",
          "name": "stdout",
          "text": [
            "   classification  count\n",
            "0               0    248\n",
            "1               1    248\n"
          ]
        }
      ]
    },
    {
      "cell_type": "code",
      "source": [
        "rows_with_value = df2[df2['classification'] == 1]\n",
        "print(rows_with_value)"
      ],
      "metadata": {
        "id": "3XglokU_Etho",
        "colab": {
          "base_uri": "https://localhost:8080/"
        },
        "outputId": "cfcf2b53-a9bd-4b3e-9994-031084a4645b"
      },
      "execution_count": 80,
      "outputs": [
        {
          "output_type": "stream",
          "name": "stdout",
          "text": [
            "      id   age    bp        sg   al   su  rbc  pc  pcc  ba  ...  pcv  wc  rc  \\\n",
            "37    37  72.0  80.0  1.017408  0.0  0.0    1   1    0   0  ...   16  64   4   \n",
            "230  230  65.0  60.0  1.010000  2.0  0.0    1   0    1   0  ...   29  87  34   \n",
            "250  250  40.0  80.0  1.025000  0.0  0.0    1   1    0   0  ...   36   5  26   \n",
            "251  251  23.0  80.0  1.025000  0.0  0.0    1   1    0   0  ...   40  90  32   \n",
            "252  252  45.0  80.0  1.025000  0.0  0.0    1   1    0   0  ...   34  83  28   \n",
            "..   ...   ...   ...       ...  ...  ...  ...  ..  ...  ..  ...  ...  ..  ..   \n",
            "395  395  55.0  80.0  1.020000  0.0  0.0    1   1    0   0  ...   35  62  30   \n",
            "396  396  42.0  70.0  1.025000  0.0  0.0    1   1    0   0  ...   42  72  44   \n",
            "397  397  12.0  80.0  1.020000  0.0  0.0    1   1    0   0  ...   37  61  36   \n",
            "398  398  17.0  60.0  1.025000  0.0  0.0    1   1    0   0  ...   39  67  41   \n",
            "399  399  58.0  80.0  1.025000  0.0  0.0    1   1    0   0  ...   41  63  43   \n",
            "\n",
            "     htn  dm  cad  appet  pe  ane  classification  \n",
            "37     1   4    1      1   0    1               1  \n",
            "230    1   4    1      1   0    0               1  \n",
            "250    0   3    1      0   0    0               1  \n",
            "251    0   3    1      0   0    0               1  \n",
            "252    0   3    1      0   0    0               1  \n",
            "..   ...  ..  ...    ...  ..  ...             ...  \n",
            "395    0   3    1      0   0    0               1  \n",
            "396    0   3    1      0   0    0               1  \n",
            "397    0   3    1      0   0    0               1  \n",
            "398    0   3    1      0   0    0               1  \n",
            "399    0   3    1      0   0    0               1  \n",
            "\n",
            "[151 rows x 26 columns]\n"
          ]
        }
      ]
    },
    {
      "cell_type": "markdown",
      "source": [
        "# <font color='green'>***Visualization***"
      ],
      "metadata": {
        "id": "gfZbMM7TiXFd"
      }
    },
    {
      "cell_type": "markdown",
      "source": [
        "<font color='green'>***scatter plot***"
      ],
      "metadata": {
        "id": "lvCic3KdmYoL"
      }
    },
    {
      "cell_type": "code",
      "source": [
        "pip install matplotlib seaborn plotly"
      ],
      "metadata": {
        "id": "zx7zu4_7ieI0",
        "colab": {
          "base_uri": "https://localhost:8080/"
        },
        "outputId": "634ab4e0-fa01-4e77-b43a-79eeda876dc6"
      },
      "execution_count": 81,
      "outputs": [
        {
          "output_type": "stream",
          "name": "stdout",
          "text": [
            "Requirement already satisfied: matplotlib in /usr/local/lib/python3.10/dist-packages (3.7.1)\n",
            "Requirement already satisfied: seaborn in /usr/local/lib/python3.10/dist-packages (0.13.1)\n",
            "Requirement already satisfied: plotly in /usr/local/lib/python3.10/dist-packages (5.15.0)\n",
            "Requirement already satisfied: contourpy>=1.0.1 in /usr/local/lib/python3.10/dist-packages (from matplotlib) (1.2.0)\n",
            "Requirement already satisfied: cycler>=0.10 in /usr/local/lib/python3.10/dist-packages (from matplotlib) (0.12.1)\n",
            "Requirement already satisfied: fonttools>=4.22.0 in /usr/local/lib/python3.10/dist-packages (from matplotlib) (4.49.0)\n",
            "Requirement already satisfied: kiwisolver>=1.0.1 in /usr/local/lib/python3.10/dist-packages (from matplotlib) (1.4.5)\n",
            "Requirement already satisfied: numpy>=1.20 in /usr/local/lib/python3.10/dist-packages (from matplotlib) (1.25.2)\n",
            "Requirement already satisfied: packaging>=20.0 in /usr/local/lib/python3.10/dist-packages (from matplotlib) (23.2)\n",
            "Requirement already satisfied: pillow>=6.2.0 in /usr/local/lib/python3.10/dist-packages (from matplotlib) (9.4.0)\n",
            "Requirement already satisfied: pyparsing>=2.3.1 in /usr/local/lib/python3.10/dist-packages (from matplotlib) (3.1.1)\n",
            "Requirement already satisfied: python-dateutil>=2.7 in /usr/local/lib/python3.10/dist-packages (from matplotlib) (2.8.2)\n",
            "Requirement already satisfied: pandas>=1.2 in /usr/local/lib/python3.10/dist-packages (from seaborn) (1.5.3)\n",
            "Requirement already satisfied: tenacity>=6.2.0 in /usr/local/lib/python3.10/dist-packages (from plotly) (8.2.3)\n",
            "Requirement already satisfied: pytz>=2020.1 in /usr/local/lib/python3.10/dist-packages (from pandas>=1.2->seaborn) (2023.4)\n",
            "Requirement already satisfied: six>=1.5 in /usr/local/lib/python3.10/dist-packages (from python-dateutil>=2.7->matplotlib) (1.16.0)\n"
          ]
        }
      ]
    },
    {
      "cell_type": "code",
      "source": [
        "import matplotlib.pyplot as plt\n",
        "import seaborn as sns"
      ],
      "metadata": {
        "id": "RWKydvMCilqv"
      },
      "execution_count": 82,
      "outputs": []
    },
    {
      "cell_type": "code",
      "source": [
        "plt.scatter(df2['age'], df2['bp'], color='red', alpha=0.5)\n",
        "plt.xlabel('Age')\n",
        "plt.ylabel('Blood Pressure')\n",
        "plt.title('Age vs. Blood Pressure')\n",
        "plt.show()"
      ],
      "metadata": {
        "id": "jenvLI0GjBrq",
        "colab": {
          "base_uri": "https://localhost:8080/",
          "height": 472
        },
        "outputId": "17ab9a3e-679e-46dc-b2f7-faab3b85cbd4"
      },
      "execution_count": 83,
      "outputs": [
        {
          "output_type": "display_data",
          "data": {
            "text/plain": [
              "<Figure size 640x480 with 1 Axes>"
            ],
            "image/png": "[encoded data removed]"
          },
          "metadata": {}
        }
      ]
    },
    {
      "cell_type": "markdown",
      "source": [
        "<font color='green'>***histogram***"
      ],
      "metadata": {
        "id": "-r2y1P_Amg2g"
      }
    },
    {
      "cell_type": "code",
      "source": [
        "g = sns.FacetGrid(df2, col='classification')\n",
        "g.map(plt.hist, 'age', bins=10)\n",
        "g.set_axis_labels('Age', 'Count')\n",
        "g.fig.suptitle('Distribution of Age by Classification')\n",
        "plt.tight_layout()\n",
        "plt.show()"
      ],
      "metadata": {
        "id": "RR3yaGLykCrB",
        "colab": {
          "base_uri": "https://localhost:8080/",
          "height": 316
        },
        "outputId": "88a48d71-8247-435c-cced-50bd82dd8335"
      },
      "execution_count": 84,
      "outputs": [
        {
          "output_type": "display_data",
          "data": {
            "text/plain": [
              "<Figure size 600x300 with 2 Axes>"
            ],
            "image/png": "[encoded data removed]"
          },
          "metadata": {}
        }
      ]
    },
    {
      "cell_type": "markdown",
      "source": [
        "# <font color='green'>***Splitting Data***"
      ],
      "metadata": {
        "id": "2rq9PQ48n-XA"
      }
    },
    {
      "cell_type": "code",
      "source": [
        "X = df2.drop(columns=['classification'])"
      ],
      "metadata": {
        "id": "W12DAYFZpIJo"
      },
      "execution_count": 85,
      "outputs": []
    },
    {
      "cell_type": "code",
      "source": [
        "y = df2['classification']"
      ],
      "metadata": {
        "id": "z2Y6t1UTpP20"
      },
      "execution_count": 86,
      "outputs": []
    },
    {
      "cell_type": "code",
      "source": [
        "from sklearn.model_selection import train_test_split"
      ],
      "metadata": {
        "id": "huJMqa1JoZw5"
      },
      "execution_count": 87,
      "outputs": []
    },
    {
      "cell_type": "code",
      "source": [
        "x_train, x_test, y_train, y_test = train_test_split(x,y, test_size=0.20)\n"
      ],
      "metadata": {
        "id": "M3qqskBBoemu"
      },
      "execution_count": 88,
      "outputs": []
    },
    {
      "cell_type": "code",
      "source": [
        "print(\"Shape of x_train:\", x_train.shape)\n",
        "print(\"Shape of x_test:\", x_test.shape)\n",
        "print(\"Shape of y_train:\", y_train.shape)\n",
        "print(\"Shape of y_test:\", y_test.shape)"
      ],
      "metadata": {
        "id": "xqhYpdCmpk_C",
        "colab": {
          "base_uri": "https://localhost:8080/"
        },
        "outputId": "3b623a17-e97b-42dd-9f6f-170d066e0fae"
      },
      "execution_count": 89,
      "outputs": [
        {
          "output_type": "stream",
          "name": "stdout",
          "text": [
            "Shape of x_train: (319, 25)\n",
            "Shape of x_test: (80, 25)\n",
            "Shape of y_train: (319,)\n",
            "Shape of y_test: (80,)\n"
          ]
        }
      ]
    },
    {
      "cell_type": "markdown",
      "source": [
        "# <font color='green'> ***SVM Model***"
      ],
      "metadata": {
        "id": "-S59z50d7VS_"
      }
    },
    {
      "cell_type": "code",
      "source": [
        "from sklearn.svm import SVC"
      ],
      "metadata": {
        "id": "huZw0uEb4nU-"
      },
      "execution_count": 90,
      "outputs": []
    },
    {
      "cell_type": "code",
      "source": [
        "svm_model = SVC(kernel='sigmoid', random_state=42)"
      ],
      "metadata": {
        "id": "yxpqgjf84oSY"
      },
      "execution_count": 91,
      "outputs": []
    },
    {
      "cell_type": "code",
      "source": [
        "svm_model.fit(x_train, y_train)"
      ],
      "metadata": {
        "id": "ywzdj8DG4sD9",
        "colab": {
          "base_uri": "https://localhost:8080/",
          "height": 74
        },
        "outputId": "b038ad85-be9c-425a-aa45-5440686a44a5"
      },
      "execution_count": 92,
      "outputs": [
        {
          "output_type": "execute_result",
          "data": {
            "text/plain": [
              "SVC(kernel='sigmoid', random_state=42)"
            ],
            "text/html": [
              "<style>#sk-container-id-3 {color: black;background-color: white;}#sk-container-id-3 pre{padding: 0;}#sk-container-id-3 div.sk-toggleable {background-color: white;}#sk-container-id-3 label.sk-toggleable__label {cursor: pointer;display: block;width: 100%;margin-bottom: 0;padding: 0.3em;box-sizing: border-box;text-align: center;}#sk-container-id-3 label.sk-toggleable__label-arrow:before {content: \"▸\";float: left;margin-right: 0.25em;color: #696969;}#sk-container-id-3 label.sk-toggleable__label-arrow:hover:before {color: black;}#sk-container-id-3 div.sk-estimator:hover label.sk-toggleable__label-arrow:before {color: black;}#sk-container-id-3 div.sk-toggleable__content {max-height: 0;max-width: 0;overflow: hidden;text-align: left;background-color: #f0f8ff;}#sk-container-id-3 div.sk-toggleable__content pre {margin: 0.2em;color: black;border-radius: 0.25em;background-color: #f0f8ff;}#sk-container-id-3 input.sk-toggleable__control:checked~div.sk-toggleable__content {max-height: 200px;max-width: 100%;overflow: auto;}#sk-container-id-3 input.sk-toggleable__control:checked~label.sk-toggleable__label-arrow:before {content: \"▾\";}#sk-container-id-3 div.sk-estimator input.sk-toggleable__control:checked~label.sk-toggleable__label {background-color: #d4ebff;}#sk-container-id-3 div.sk-label input.sk-toggleable__control:checked~label.sk-toggleable__label {background-color: #d4ebff;}#sk-container-id-3 input.sk-hidden--visually {border: 0;clip: rect(1px 1px 1px 1px);clip: rect(1px, 1px, 1px, 1px);height: 1px;margin: -1px;overflow: hidden;padding: 0;position: absolute;width: 1px;}#sk-container-id-3 div.sk-estimator {font-family: monospace;background-color: #f0f8ff;border: 1px dotted black;border-radius: 0.25em;box-sizing: border-box;margin-bottom: 0.5em;}#sk-container-id-3 div.sk-estimator:hover {background-color: #d4ebff;}#sk-container-id-3 div.sk-parallel-item::after {content: \"\";width: 100%;border-bottom: 1px solid gray;flex-grow: 1;}#sk-container-id-3 div.sk-label:hover label.sk-toggleable__label {background-color: #d4ebff;}#sk-container-id-3 div.sk-serial::before {content: \"\";position: absolute;border-left: 1px solid gray;box-sizing: border-box;top: 0;bottom: 0;left: 50%;z-index: 0;}#sk-container-id-3 div.sk-serial {display: flex;flex-direction: column;align-items: center;background-color: white;padding-right: 0.2em;padding-left: 0.2em;position: relative;}#sk-container-id-3 div.sk-item {position: relative;z-index: 1;}#sk-container-id-3 div.sk-parallel {display: flex;align-items: stretch;justify-content: center;background-color: white;position: relative;}#sk-container-id-3 div.sk-item::before, #sk-container-id-3 div.sk-parallel-item::before {content: \"\";position: absolute;border-left: 1px solid gray;box-sizing: border-box;top: 0;bottom: 0;left: 50%;z-index: -1;}#sk-container-id-3 div.sk-parallel-item {display: flex;flex-direction: column;z-index: 1;position: relative;background-color: white;}#sk-container-id-3 div.sk-parallel-item:first-child::after {align-self: flex-end;width: 50%;}#sk-container-id-3 div.sk-parallel-item:last-child::after {align-self: flex-start;width: 50%;}#sk-container-id-3 div.sk-parallel-item:only-child::after {width: 0;}#sk-container-id-3 div.sk-dashed-wrapped {border: 1px dashed gray;margin: 0 0.4em 0.5em 0.4em;box-sizing: border-box;padding-bottom: 0.4em;background-color: white;}#sk-container-id-3 div.sk-label label {font-family: monospace;font-weight: bold;display: inline-block;line-height: 1.2em;}#sk-container-id-3 div.sk-label-container {text-align: center;}#sk-container-id-3 div.sk-container {/* jupyter's `normalize.less` sets `[hidden] { display: none; }` but bootstrap.min.css set `[hidden] { display: none !important; }` so we also need the `!important` here to be able to override the default hidden behavior on the sphinx rendered scikit-learn.org. See: https://github.com/scikit-learn/scikit-learn/issues/21755 */display: inline-block !important;position: relative;}#sk-container-id-3 div.sk-text-repr-fallback {display: none;}</style><div id=\"sk-container-id-3\" class=\"sk-top-container\"><div class=\"sk-text-repr-fallback\"><pre>SVC(kernel=&#x27;sigmoid&#x27;, random_state=42)</pre><b>In a Jupyter environment, please rerun this cell to show the HTML representation or trust the notebook. <br />On GitHub, the HTML representation is unable to render, please try loading this page with nbviewer.org.</b></div><div class=\"sk-container\" hidden><div class=\"sk-item\"><div class=\"sk-estimator sk-toggleable\"><input class=\"sk-toggleable__control sk-hidden--visually\" id=\"sk-estimator-id-3\" type=\"checkbox\" checked><label for=\"sk-estimator-id-3\" class=\"sk-toggleable__label sk-toggleable__label-arrow\">SVC</label><div class=\"sk-toggleable__content\"><pre>SVC(kernel=&#x27;sigmoid&#x27;, random_state=42)</pre></div></div></div></div></div>"
            ]
          },
          "metadata": {},
          "execution_count": 92
        }
      ]
    },
    {
      "cell_type": "code",
      "source": [
        "y_pred = svm_model.predict(x_test)"
      ],
      "metadata": {
        "id": "gwJ4Db9yFlH2"
      },
      "execution_count": 93,
      "outputs": []
    },
    {
      "cell_type": "markdown",
      "source": [
        "# <font color='green'> ***Evaluation***"
      ],
      "metadata": {
        "id": "_SXvTpOHJQvf"
      }
    },
    {
      "cell_type": "code",
      "source": [
        "from sklearn.metrics import accuracy_score, classification_report, roc_auc_score,precision_score,recall_score,f1_score"
      ],
      "metadata": {
        "id": "Ksfw6cO7JjPm"
      },
      "execution_count": 107,
      "outputs": []
    },
    {
      "cell_type": "code",
      "source": [
        "accuracy = accuracy_score(y_test, y_pred)\n",
        "print(\"Accuracy:\", accuracy)"
      ],
      "metadata": {
        "colab": {
          "base_uri": "https://localhost:8080/"
        },
        "outputId": "b8bd1708-6731-4878-a750-190bcf33310e",
        "id": "wxOPJQwvJvWB"
      },
      "execution_count": 98,
      "outputs": [
        {
          "output_type": "stream",
          "name": "stdout",
          "text": [
            "Accuracy: 0.8\n"
          ]
        }
      ]
    },
    {
      "cell_type": "code",
      "source": [
        "precision = precision_score(y_test, y_pred)\n",
        "\n",
        "print(\"Precision:\", precision)"
      ],
      "metadata": {
        "colab": {
          "base_uri": "https://localhost:8080/"
        },
        "id": "E2YG1KB2Tcp7",
        "outputId": "b6131859-d1a9-419d-c3c1-78adf5822411"
      },
      "execution_count": 102,
      "outputs": [
        {
          "output_type": "stream",
          "name": "stdout",
          "text": [
            "Precision: 0.717948717948718\n"
          ]
        }
      ]
    },
    {
      "cell_type": "code",
      "source": [
        "recall = recall_score(y_test, y_pred)\n",
        "\n",
        "print(\"Recall:\", recall)"
      ],
      "metadata": {
        "colab": {
          "base_uri": "https://localhost:8080/"
        },
        "id": "GTn7Y-8NT0oE",
        "outputId": "ed0d36d8-de20-4a02-ec2f-e9265328723f"
      },
      "execution_count": 105,
      "outputs": [
        {
          "output_type": "stream",
          "name": "stdout",
          "text": [
            "Recall: 0.8484848484848485\n"
          ]
        }
      ]
    },
    {
      "cell_type": "code",
      "source": [
        "f1 = f1_score(y_test, y_pred)\n",
        "\n",
        "print(\"F1 Score:\", f1)"
      ],
      "metadata": {
        "colab": {
          "base_uri": "https://localhost:8080/"
        },
        "id": "vsRwPGQpUJ32",
        "outputId": "4e7b430b-3e47-4674-add7-f873ddb1101a"
      },
      "execution_count": 108,
      "outputs": [
        {
          "output_type": "stream",
          "name": "stdout",
          "text": [
            "F1 Score: 0.7777777777777778\n"
          ]
        }
      ]
    },
    {
      "cell_type": "code",
      "source": [
        "roc_auc = roc_auc_score(y_test, y_pred)\n",
        "print(\"ROC-AUC Score:\", roc_auc)"
      ],
      "metadata": {
        "colab": {
          "base_uri": "https://localhost:8080/"
        },
        "id": "J1hkaX3FKBJL",
        "outputId": "4c97ca99-bf14-4e45-8d8d-ecbfc080eae3"
      },
      "execution_count": 97,
      "outputs": [
        {
          "output_type": "stream",
          "name": "stdout",
          "text": [
            "ROC-AUC Score: 0.8072211476466796\n"
          ]
        }
      ]
    }
  ]
}